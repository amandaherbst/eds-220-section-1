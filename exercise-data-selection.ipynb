{
 "cells": [
  {
   "cell_type": "markdown",
   "id": "9ab10504-9ad8-4c4e-9db3-9ba166b4d57a",
   "metadata": {},
   "source": [
    "# Data Exploration\n",
    "\n",
    "[Dataset](https://knb.ecoinformatics.org/view/doi%3A10.5063%2FF1VM49RH): Prey items for endangered terrestrial vertebrate species within central California drylands \n",
    "\n",
    "accessed October 5, 2023\n",
    "\n",
    "\n",
    "- contains arthropod prey ocurrences, bioclimatic variables, landcover, elevation data and distance to nearest road\n",
    "- synthesis of multiple datasets\n",
    "    - \n",
    "- 1945-2022\n",
    "- has metadata file\n",
    "- non-sensitive data\n",
    "\n",
    "Rachel King, Jenna Braun, Michael Westphal, & CJ Lortie. (2023). Compiled occurrence records for prey items of listed species found in California drylands with associated environmental data. Knowledge Network for Biocomplexity. doi:10.5063/F1VM49RH."
   ]
  }
 ],
 "metadata": {
  "kernelspec": {
   "display_name": "Anaconda 3 (Base)",
   "language": "python",
   "name": "base"
  },
  "language_info": {
   "codemirror_mode": {
    "name": "ipython",
    "version": 3
   },
   "file_extension": ".py",
   "mimetype": "text/x-python",
   "name": "python",
   "nbconvert_exporter": "python",
   "pygments_lexer": "ipython3",
   "version": "3.9.13"
  }
 },
 "nbformat": 4,
 "nbformat_minor": 5
}
